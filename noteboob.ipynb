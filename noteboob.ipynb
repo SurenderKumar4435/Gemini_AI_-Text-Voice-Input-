{
 "cells": [
  {
   "cell_type": "code",
   "execution_count": 39,
   "id": "87ffc1d7",
   "metadata": {},
   "outputs": [],
   "source": [
    "import os\n",
    "import google.generativeai as genai\n"
   ]
  },
  {
   "cell_type": "code",
   "execution_count": 40,
   "id": "2bc1e11b",
   "metadata": {},
   "outputs": [],
   "source": [
    "Google_api_key = os.environ[\"GOOGLE_API_KEY\"]"
   ]
  },
  {
   "cell_type": "code",
   "execution_count": 41,
   "id": "aac04f98",
   "metadata": {},
   "outputs": [],
   "source": [
    "model = genai.GenerativeModel(\"gemini-2.5-flash\")"
   ]
  },
  {
   "cell_type": "code",
   "execution_count": 42,
   "id": "3c983763",
   "metadata": {},
   "outputs": [],
   "source": [
    "response = model.generate_content(\"What is data science\")"
   ]
  },
  {
   "cell_type": "code",
   "execution_count": 16,
   "id": "e19a4604",
   "metadata": {},
   "outputs": [
    {
     "name": "stdout",
     "output_type": "stream",
     "text": [
      "Data Science is an interdisciplinary field that uses scientific methods, processes, algorithms, and systems to extract knowledge and insights from structured and unstructured data. It's essentially about using data to understand and solve complex problems, make better decisions, and predict future outcomes.\n",
      "\n",
      "Think of it as the ultimate blend of:\n",
      "\n",
      "1.  **Mathematics & Statistics:** For understanding patterns, relationships, probability, and making inferences.\n",
      "2.  **Computer Science & Programming:** For handling large datasets, building models, and automating processes (using languages like Python, R, SQL).\n",
      "3.  **Domain Expertise:** Understanding the specific business, scientific, or social context of the data to ask the right questions and interpret results meaningfully.\n",
      "4.  **Communication & Storytelling:** For translating complex analytical findings into actionable insights that can be understood by non-technical stakeholders.\n",
      "\n",
      "### What Does a Data Scientist Do? (The Data Science Lifecycle)\n",
      "\n",
      "The typical process a data scientist follows involves several stages:\n",
      "\n",
      "1.  **Problem Definition:** Understanding the business or research problem that needs to be solved. This is often the most critical step.\n",
      "2.  **Data Collection/Acquisition:** Gathering relevant data from various sources (databases, web scraping, APIs, surveys, etc.).\n",
      "3.  **Data Cleaning & Preparation (Data Wrangling/Munging):** This is often the most time-consuming step (can be 60-80% of the work!). It involves handling missing values, outliers, inconsistencies, transforming data formats, and preparing it for analysis.\n",
      "4.  **Exploratory Data Analysis (EDA):** Analyzing data sets to summarize their main characteristics, often with visual methods. This helps to discover patterns, spot anomalies, test hypotheses, and check assumptions.\n",
      "5.  **Feature Engineering:** Creating new variables (features) from existing ones that might be more relevant or effective for model training.\n",
      "6.  **Model Building & Selection:** Applying statistical modeling, machine learning algorithms (e.g., regression, classification, clustering, deep learning), or other analytical techniques to the prepared data.\n",
      "7.  **Model Evaluation:** Assessing the performance and accuracy of the built models using various metrics.\n",
      "8.  **Deployment:** Integrating the successful model into an application or system to solve the original problem (e.g., a recommendation engine, a fraud detection system).\n",
      "9.  **Monitoring & Maintenance:** Continuously monitoring the model's performance in a real-world environment and updating it as data patterns change.\n",
      "\n",
      "### Why is Data Science Important?\n",
      "\n",
      "*   **Informed Decision-Making:** Helps organizations make data-driven decisions rather than relying on intuition.\n",
      "*   **Predictive Capabilities:** Forecasts future trends, customer behavior, market changes, etc.\n",
      "*   **Optimization:** Improves efficiency, reduces costs, and optimizes processes in various industries.\n",
      "*   **Innovation:** Leads to the creation of new products, services, and business models.\n",
      "*   **Competitive Advantage:** Organizations that leverage data effectively can outperform competitors.\n",
      "\n",
      "### Examples of Data Science in Action:\n",
      "\n",
      "*   **Recommendation Systems:** \"Customers who bought this also bought...\" on e-commerce sites, or movie/music recommendations on streaming platforms.\n",
      "*   **Fraud Detection:** Identifying unusual patterns in financial transactions to flag potential fraud.\n",
      "*   **Personalized Marketing:** Tailoring ads and offers to individual customers based on their past behavior.\n",
      "*   **Healthcare:** Predicting disease outbreaks, personalizing treatment plans, and analyzing medical images.\n",
      "*   **Self-driving Cars:** Processing sensor data to understand the environment and make driving decisions.\n",
      "*   **Financial Trading:** Predicting stock prices or market movements.\n",
      "\n",
      "In essence, Data Science is about turning raw data into actionable intelligence, empowering individuals and organizations to navigate an increasingly complex, data-rich world.\n"
     ]
    }
   ],
   "source": [
    "\n",
    "print(response.text)"
   ]
  },
  {
   "cell_type": "code",
   "execution_count": 8,
   "id": "8d08eced",
   "metadata": {},
   "outputs": [
    {
     "name": "stdout",
     "output_type": "stream",
     "text": [
      "models/gemini-1.5-pro-latest\n",
      "models/gemini-1.5-pro-002\n",
      "models/gemini-1.5-pro\n",
      "models/gemini-1.5-flash-latest\n",
      "models/gemini-1.5-flash\n",
      "models/gemini-1.5-flash-002\n",
      "models/gemini-1.5-flash-8b\n",
      "models/gemini-1.5-flash-8b-001\n",
      "models/gemini-1.5-flash-8b-latest\n",
      "models/gemini-2.5-pro-preview-03-25\n",
      "models/gemini-2.5-flash-preview-05-20\n",
      "models/gemini-2.5-flash\n",
      "models/gemini-2.5-flash-lite-preview-06-17\n",
      "models/gemini-2.5-pro-preview-05-06\n",
      "models/gemini-2.5-pro-preview-06-05\n",
      "models/gemini-2.5-pro\n",
      "models/gemini-2.0-flash-exp\n",
      "models/gemini-2.0-flash\n",
      "models/gemini-2.0-flash-001\n",
      "models/gemini-2.0-flash-exp-image-generation\n",
      "models/gemini-2.0-flash-lite-001\n",
      "models/gemini-2.0-flash-lite\n",
      "models/gemini-2.0-flash-preview-image-generation\n",
      "models/gemini-2.0-flash-lite-preview-02-05\n",
      "models/gemini-2.0-flash-lite-preview\n",
      "models/gemini-2.0-pro-exp\n",
      "models/gemini-2.0-pro-exp-02-05\n",
      "models/gemini-exp-1206\n",
      "models/gemini-2.0-flash-thinking-exp-01-21\n",
      "models/gemini-2.0-flash-thinking-exp\n",
      "models/gemini-2.0-flash-thinking-exp-1219\n",
      "models/gemini-2.5-flash-preview-tts\n",
      "models/gemini-2.5-pro-preview-tts\n",
      "models/learnlm-2.0-flash-experimental\n",
      "models/gemma-3-1b-it\n",
      "models/gemma-3-4b-it\n",
      "models/gemma-3-12b-it\n",
      "models/gemma-3-27b-it\n",
      "models/gemma-3n-e4b-it\n",
      "models/gemma-3n-e2b-it\n",
      "models/gemini-2.5-flash-lite\n"
     ]
    }
   ],
   "source": [
    "for m in genai.list_models():\n",
    "    if \"generateContent\" in m.supported_generation_methods:\n",
    "        print(m.name)"
   ]
  },
  {
   "cell_type": "code",
   "execution_count": 38,
   "id": "b0274bc1",
   "metadata": {},
   "outputs": [
    {
     "name": "stdout",
     "output_type": "stream",
     "text": [
      "I will generate a beautiful image of Radha. She will be depicted as a graceful woman with a serene expression, adorned in vibrant traditional Indian attire, possibly a flowing sari in rich colors like deep blues, reds, or greens. Her jewelry will be intricate gold pieces, and she might be holding a lotus flower or a flute. The background will be soft and slightly blurred, perhaps suggesting a garden or a tranquil natural setting with gentle lighting.\n",
      "\n"
     ]
    }
   ],
   "source": [
    "from google import genai\n",
    "from google.genai import types\n",
    "from PIL import Image\n",
    "from io import BytesIO\n",
    "import base64\n",
    "\n",
    "client = genai.Client()\n",
    "\n",
    "contents = ('Hi, create a beautifull image of radha')\n",
    "\n",
    "response = client.models.generate_content(\n",
    "    model=\"gemini-2.0-flash-preview-image-generation\",\n",
    "    contents=contents,\n",
    "    config=types.GenerateContentConfig(\n",
    "      response_modalities=['TEXT', 'IMAGE']\n",
    "    )\n",
    ")\n",
    "\n",
    "for part in response.candidates[0].content.parts:\n",
    "  if part.text is not None:\n",
    "    print(part.text)\n",
    "  elif part.inline_data is not None:\n",
    "    image = Image.open(BytesIO((part.inline_data.data)))\n",
    "    image.save('gemini-native-image.png')\n",
    "    image.show()"
   ]
  },
  {
   "cell_type": "code",
   "execution_count": null,
   "id": "b1532fbc",
   "metadata": {},
   "outputs": [],
   "source": []
  }
 ],
 "metadata": {
  "kernelspec": {
   "display_name": "geminiai",
   "language": "python",
   "name": "python3"
  },
  "language_info": {
   "codemirror_mode": {
    "name": "ipython",
    "version": 3
   },
   "file_extension": ".py",
   "mimetype": "text/x-python",
   "name": "python",
   "nbconvert_exporter": "python",
   "pygments_lexer": "ipython3",
   "version": "3.10.0"
  }
 },
 "nbformat": 4,
 "nbformat_minor": 5
}
